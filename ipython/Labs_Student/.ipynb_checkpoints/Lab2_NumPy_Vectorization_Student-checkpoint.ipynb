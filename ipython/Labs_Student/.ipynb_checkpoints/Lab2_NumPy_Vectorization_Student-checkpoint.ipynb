{
 "cells": [
  {
   "cell_type": "code",
   "execution_count": 2,
   "metadata": {
    "collapsed": false
   },
   "outputs": [],
   "source": [
    "import warnings\n",
    "warnings.filterwarnings('ignore')\n",
    "import numpy as np\n",
    "import matplotlib.pyplot as plt\n",
    "%matplotlib inline"
   ]
  },
  {
   "cell_type": "markdown",
   "metadata": {},
   "source": [
    "First we'll generate a random matrix"
   ]
  },
  {
   "cell_type": "code",
   "execution_count": 4,
   "metadata": {
    "collapsed": false
   },
   "outputs": [],
   "source": [
    "#Number of columns (features)\n",
    "K = 5\n",
    "\n",
    "#Number of records\n",
    "N = 1000\n",
    "\n",
    "#Generate an NxK matrix of uniform random variables\n",
    "X = np.random.random([N,K]) #Student: generate a uniform random matrix here"
   ]
  },
  {
   "cell_type": "markdown",
   "metadata": {},
   "source": [
    "Let's peak at our data to confirm it looks as we expect it"
   ]
  },
  {
   "cell_type": "code",
   "execution_count": 6,
   "metadata": {
    "collapsed": false
   },
   "outputs": [
    {
     "data": {
      "text/plain": [
       "array([[  5.63838288e-01,   1.35816793e-01,   5.92760355e-01,\n",
       "          7.07308976e-01,   9.90260815e-01],\n",
       "       [  7.24320622e-01,   2.54294720e-01,   6.96969716e-01,\n",
       "          7.39430246e-01,   5.26126833e-01],\n",
       "       [  2.01158162e-01,   3.96581900e-01,   8.21113780e-01,\n",
       "          6.83380492e-01,   3.73926171e-01],\n",
       "       [  7.84648555e-01,   5.94038603e-01,   2.54398701e-01,\n",
       "          7.93903560e-01,   2.67849891e-01],\n",
       "       [  7.54756520e-01,   7.98144424e-01,   9.70365979e-01,\n",
       "          4.85509106e-01,   8.66368288e-01],\n",
       "       [  7.08715174e-02,   5.35856644e-01,   7.27383710e-01,\n",
       "          8.30001076e-01,   1.50513821e-01],\n",
       "       [  2.03360249e-02,   8.75290163e-02,   5.19512022e-01,\n",
       "          9.43097120e-01,   6.37104170e-01],\n",
       "       [  1.17204291e-01,   6.75483057e-01,   3.54338824e-01,\n",
       "          7.78903889e-01,   6.61500594e-01],\n",
       "       [  4.80142368e-01,   4.26142998e-01,   8.17398241e-02,\n",
       "          5.39194006e-01,   5.45722574e-01],\n",
       "       [  2.72335171e-01,   4.02585724e-01,   1.21236396e-01,\n",
       "          5.87944079e-01,   3.98169866e-02],\n",
       "       [  9.76515137e-01,   9.11866560e-01,   7.39353794e-01,\n",
       "          1.35803804e-01,   9.88543310e-01],\n",
       "       [  9.66789397e-01,   1.87688634e-02,   3.02420097e-01,\n",
       "          4.93952374e-01,   9.49677197e-01],\n",
       "       [  2.75455222e-01,   1.66677527e-01,   6.55678483e-02,\n",
       "          4.72746886e-02,   1.44516177e-01],\n",
       "       [  4.81982479e-01,   7.82564951e-01,   8.72347936e-01,\n",
       "          2.85758282e-01,   4.34161524e-01],\n",
       "       [  2.56861759e-02,   6.24053168e-01,   1.98543175e-01,\n",
       "          4.82742256e-02,   7.13598853e-01],\n",
       "       [  7.54686176e-02,   2.14052811e-01,   4.10516790e-01,\n",
       "          8.37307350e-01,   4.80689197e-04],\n",
       "       [  9.59308348e-01,   6.67746198e-01,   3.82942793e-01,\n",
       "          7.51270902e-01,   3.84440237e-01],\n",
       "       [  1.30196985e-02,   2.15840065e-01,   4.54736984e-01,\n",
       "          7.96213823e-01,   9.86269325e-01],\n",
       "       [  8.10141907e-01,   2.80175400e-01,   5.98382810e-01,\n",
       "          5.30950085e-01,   4.12980996e-01],\n",
       "       [  2.74183326e-01,   9.36565021e-01,   6.45802853e-01,\n",
       "          1.78242556e-01,   9.13974808e-01],\n",
       "       [  5.89525339e-01,   8.01632377e-01,   8.64824337e-02,\n",
       "          5.68143681e-01,   1.13869598e-01],\n",
       "       [  6.86124071e-02,   1.02339634e-01,   3.25373396e-02,\n",
       "          9.54017023e-01,   8.49563632e-01],\n",
       "       [  8.26164786e-01,   5.90118937e-01,   3.29058589e-01,\n",
       "          8.56195481e-01,   3.25578930e-02],\n",
       "       [  6.03982807e-01,   7.06063902e-01,   7.23056768e-01,\n",
       "          3.03921237e-01,   8.17127399e-01],\n",
       "       [  5.84172865e-01,   8.44324112e-01,   2.72524904e-01,\n",
       "          9.37289913e-01,   7.11676306e-01],\n",
       "       [  6.28772405e-01,   2.41565966e-01,   4.99867493e-01,\n",
       "          9.74752312e-01,   9.78148738e-01],\n",
       "       [  7.65917204e-01,   4.10983394e-01,   7.40138535e-01,\n",
       "          1.65538302e-01,   2.20880871e-01],\n",
       "       [  6.86136660e-01,   6.98838021e-01,   2.42793503e-01,\n",
       "          4.77471996e-01,   5.91278283e-01],\n",
       "       [  5.92002295e-01,   4.23073000e-01,   6.17194038e-01,\n",
       "          6.76404204e-01,   5.52970407e-01],\n",
       "       [  2.89359861e-01,   3.15102931e-01,   5.37619616e-01,\n",
       "          2.50518337e-01,   2.23468021e-01],\n",
       "       [  6.16155531e-01,   5.09938734e-01,   9.41281573e-01,\n",
       "          8.90424691e-01,   4.48392153e-01],\n",
       "       [  4.34620198e-01,   6.93835662e-01,   2.81410065e-01,\n",
       "          9.70152201e-01,   4.12659848e-02],\n",
       "       [  4.58097344e-01,   1.49810595e-01,   4.28111589e-01,\n",
       "          3.59299173e-01,   1.33395402e-03],\n",
       "       [  5.94648986e-02,   2.03464699e-02,   9.87195646e-01,\n",
       "          7.68671034e-01,   7.32526062e-01],\n",
       "       [  4.24754966e-01,   5.77656997e-01,   3.10065914e-01,\n",
       "          8.86527304e-01,   2.15038294e-01],\n",
       "       [  6.65270379e-01,   4.54248398e-01,   6.63416210e-01,\n",
       "          2.47998151e-01,   6.34745233e-01],\n",
       "       [  9.53114319e-01,   2.76491898e-01,   4.07728501e-01,\n",
       "          9.50806866e-01,   4.93313444e-01],\n",
       "       [  3.34139415e-01,   1.88478912e-01,   1.61766607e-01,\n",
       "          3.34071672e-01,   2.19949621e-01],\n",
       "       [  1.34595369e-01,   3.52063715e-01,   7.55878917e-01,\n",
       "          4.38989116e-01,   7.63564015e-01],\n",
       "       [  3.01341178e-01,   1.26721623e-01,   9.77674512e-01,\n",
       "          1.96695558e-01,   5.89047554e-01],\n",
       "       [  9.12665480e-01,   9.75715955e-01,   9.62263595e-03,\n",
       "          8.00671545e-01,   8.59461335e-01],\n",
       "       [  4.93971208e-01,   8.08725286e-01,   3.24054254e-01,\n",
       "          1.90670692e-01,   8.16036627e-01],\n",
       "       [  5.43009742e-01,   2.24147317e-01,   5.79665045e-01,\n",
       "          3.10748524e-01,   3.31920585e-01],\n",
       "       [  2.78386721e-01,   2.95697498e-01,   7.29309993e-01,\n",
       "          7.80005548e-01,   5.99337029e-01],\n",
       "       [  5.66063321e-01,   2.97886319e-01,   2.90787494e-01,\n",
       "          8.64736128e-01,   9.23347582e-01],\n",
       "       [  6.96785539e-01,   1.74991975e-02,   6.67999609e-01,\n",
       "          1.83928606e-01,   4.50489954e-01],\n",
       "       [  4.54645192e-01,   8.67613953e-01,   7.04447393e-01,\n",
       "          5.49852939e-01,   2.33979543e-01],\n",
       "       [  1.57023413e-01,   6.40234534e-01,   9.67077270e-01,\n",
       "          2.64770120e-01,   1.79422628e-01],\n",
       "       [  9.35616869e-01,   5.04251892e-01,   4.79865292e-01,\n",
       "          7.85676709e-01,   4.90613773e-01],\n",
       "       [  3.72521571e-01,   2.17588782e-02,   8.65488891e-01,\n",
       "          6.79984977e-01,   8.76167072e-01],\n",
       "       [  6.04066775e-01,   8.54653894e-01,   3.63318250e-01,\n",
       "          4.96014940e-01,   1.63403611e-02],\n",
       "       [  4.56061075e-01,   2.08879597e-01,   9.47636707e-01,\n",
       "          9.98600577e-02,   9.20049062e-01],\n",
       "       [  7.18883105e-01,   4.67061970e-01,   9.80370651e-01,\n",
       "          1.61159900e-01,   7.73775751e-01],\n",
       "       [  7.96330758e-01,   2.91528366e-01,   3.72951069e-01,\n",
       "          9.42273296e-02,   8.02373892e-01],\n",
       "       [  6.13743812e-01,   1.17543802e-02,   4.97822058e-02,\n",
       "          2.13430494e-01,   1.48052347e-01],\n",
       "       [  3.14712331e-01,   3.09392464e-01,   6.54816468e-01,\n",
       "          9.32786232e-02,   2.15375960e-01],\n",
       "       [  8.57392014e-01,   4.03794087e-01,   5.69254483e-01,\n",
       "          8.41633663e-01,   5.18571148e-01],\n",
       "       [  9.41171724e-01,   3.35499543e-01,   7.53277906e-01,\n",
       "          3.36014819e-02,   5.83005013e-01],\n",
       "       [  2.52803388e-01,   6.50031208e-01,   7.23812210e-01,\n",
       "          6.51777597e-02,   8.22758805e-01],\n",
       "       [  3.07035249e-01,   1.48007660e-01,   3.37849189e-01,\n",
       "          2.13523854e-01,   6.12972967e-01],\n",
       "       [  5.12012209e-01,   2.94396340e-01,   3.60581643e-01,\n",
       "          4.09128463e-01,   3.79634811e-01],\n",
       "       [  5.00676460e-01,   6.54804982e-01,   6.75046847e-01,\n",
       "          6.26481897e-01,   7.46615164e-01],\n",
       "       [  8.93976006e-01,   8.28466808e-01,   6.16955529e-01,\n",
       "          8.46207042e-01,   4.86085414e-01],\n",
       "       [  4.07304323e-01,   8.31547675e-01,   7.20059969e-01,\n",
       "          6.78044019e-02,   3.01833848e-01],\n",
       "       [  4.34064124e-01,   1.45292686e-01,   1.25786584e-01,\n",
       "          9.04749490e-02,   2.26596831e-01],\n",
       "       [  3.42608941e-01,   8.16347517e-01,   3.41220449e-01,\n",
       "          3.69266476e-01,   3.30662248e-01],\n",
       "       [  7.58565344e-01,   1.31640300e-02,   5.03444883e-01,\n",
       "          6.70112101e-01,   2.44972738e-01],\n",
       "       [  4.41437099e-01,   8.35924585e-01,   8.90242644e-01,\n",
       "          1.29692630e-01,   3.99370461e-01],\n",
       "       [  2.13132892e-01,   8.73901880e-01,   9.96659267e-01,\n",
       "          1.81500080e-01,   4.69601820e-01],\n",
       "       [  3.96689618e-02,   3.57637786e-01,   3.81828122e-01,\n",
       "          3.83471138e-01,   2.92570670e-02],\n",
       "       [  3.44757715e-01,   7.43515637e-01,   7.00706393e-01,\n",
       "          1.71734694e-01,   8.15619232e-01],\n",
       "       [  7.67774776e-01,   4.38104340e-01,   2.16968776e-01,\n",
       "          8.37580657e-01,   7.24559247e-01],\n",
       "       [  9.04092708e-01,   5.59373196e-01,   2.31855128e-01,\n",
       "          6.93499337e-01,   6.80076321e-01],\n",
       "       [  3.59523938e-02,   4.81428440e-01,   1.15238883e-02,\n",
       "          2.36752135e-01,   6.22335535e-01],\n",
       "       [  3.13124052e-01,   3.87410833e-01,   3.68935733e-02,\n",
       "          8.73385901e-02,   6.53115579e-01],\n",
       "       [  4.90151813e-01,   6.09645624e-01,   2.86480493e-01,\n",
       "          9.35152657e-01,   7.68680357e-01],\n",
       "       [  5.91364711e-01,   6.06943060e-01,   7.56227848e-01,\n",
       "          4.82690589e-01,   3.66668078e-01],\n",
       "       [  2.04903506e-01,   3.69487841e-01,   3.55047479e-02,\n",
       "          5.66804327e-01,   8.20012755e-01],\n",
       "       [  2.19485652e-02,   5.99038354e-01,   1.12981504e-01,\n",
       "          5.45921035e-01,   2.08066527e-01],\n",
       "       [  8.65672042e-01,   8.64343159e-01,   6.17370192e-01,\n",
       "          3.62750431e-02,   8.64944807e-01],\n",
       "       [  1.02836625e-01,   3.37585765e-02,   3.71291040e-01,\n",
       "          2.29321672e-01,   3.27408629e-01],\n",
       "       [  5.94269204e-01,   9.97950660e-01,   4.65465358e-01,\n",
       "          2.53563272e-01,   8.97560373e-01],\n",
       "       [  9.53994189e-01,   5.68606161e-01,   2.31131248e-01,\n",
       "          1.32915545e-01,   9.88349512e-01],\n",
       "       [  3.54731212e-01,   2.56936489e-01,   7.26355460e-01,\n",
       "          9.13307199e-01,   8.17445963e-01],\n",
       "       [  6.66880135e-01,   9.70310002e-01,   5.44686944e-01,\n",
       "          3.60103447e-01,   4.62859806e-01],\n",
       "       [  9.54368207e-01,   4.67281969e-01,   6.05885104e-02,\n",
       "          1.67007968e-01,   6.17449834e-02],\n",
       "       [  8.97814010e-02,   9.61758199e-01,   1.17060332e-01,\n",
       "          6.06487281e-01,   3.16080284e-01],\n",
       "       [  9.86715313e-01,   6.63599885e-02,   5.64545821e-01,\n",
       "          5.25332317e-01,   2.96287633e-01],\n",
       "       [  8.38284395e-01,   2.45740984e-01,   3.45850530e-02,\n",
       "          9.30836770e-01,   7.34255846e-02],\n",
       "       [  2.07292353e-01,   5.92102404e-01,   9.00573575e-01,\n",
       "          3.43928383e-01,   1.80781863e-01],\n",
       "       [  3.39392957e-01,   6.05409725e-02,   8.83966992e-01,\n",
       "          8.33030645e-01,   4.61855502e-01],\n",
       "       [  7.95906477e-01,   3.23261890e-01,   1.24955234e-01,\n",
       "          9.44154021e-01,   7.36671939e-01],\n",
       "       [  9.31005229e-01,   9.50212330e-01,   7.47500771e-02,\n",
       "          7.23524854e-01,   1.26020411e-01],\n",
       "       [  7.02182189e-01,   7.84581613e-01,   2.19562088e-01,\n",
       "          2.90846617e-01,   3.71305954e-01],\n",
       "       [  2.08376711e-01,   7.26388430e-01,   6.26511920e-01,\n",
       "          8.32550664e-02,   5.50863569e-02],\n",
       "       [  1.33419974e-01,   9.01685604e-01,   3.97582766e-01,\n",
       "          8.54400843e-01,   5.29677850e-01],\n",
       "       [  8.14320088e-01,   9.32295485e-01,   9.39490776e-01,\n",
       "          5.62752466e-01,   2.76261441e-01],\n",
       "       [  7.19029258e-01,   5.47368449e-01,   1.69349400e-01,\n",
       "          4.30598245e-01,   9.99861308e-01],\n",
       "       [  9.40521180e-01,   6.08847465e-01,   6.21701824e-01,\n",
       "          8.32524416e-02,   5.01747788e-01]])"
      ]
     },
     "execution_count": 6,
     "metadata": {},
     "output_type": "execute_result"
    }
   ],
   "source": [
    "#Student - Put in a command to view the first 100 rows\n",
    "X[0:99]"
   ]
  },
  {
   "cell_type": "code",
   "execution_count": 7,
   "metadata": {
    "collapsed": false
   },
   "outputs": [
    {
     "data": {
      "text/plain": [
       "(1000, 5)"
      ]
     },
     "execution_count": 7,
     "metadata": {},
     "output_type": "execute_result"
    }
   ],
   "source": [
    "#Student - put in a command to see the dimensions of X\n",
    "X.shape"
   ]
  },
  {
   "cell_type": "markdown",
   "metadata": {},
   "source": [
    "This exercise is about designing a scoring function for a logistic regression. As we are not concerned with fitting a model to data, we can just make up a logistic regression. <br> <br>\n",
    "\n",
    "For quick intro, the Logistic Regression takes the form of $\\hat{Y} = f(x * \\beta^T)$, where $x$ is the $1xK$ vector of features and $\\beta$ is the $1xK$ vector of weights. The function $f$, called a 'link' function, is the inverse logit: <br><br>\n",
    "\n",
    "<center>$f(a)=\\frac{1}{1+e^{-a}}$</center> <br><br>\n",
    "\n",
    "In this notebook we'll write a function that, given inputs of $X$ and $\\beta$, returns a value for $\\hat{Y}$.\n",
    "<br><br>\n",
    "First let's generate a random set of weights to represent $\\beta$.\n"
   ]
  },
  {
   "cell_type": "code",
   "execution_count": 18,
   "metadata": {
    "collapsed": false
   },
   "outputs": [
    {
     "data": {
      "text/plain": [
       "array([ 0.82845754, -0.31961274,  0.94262213,  0.16614284, -0.32929088])"
      ]
     },
     "execution_count": 18,
     "metadata": {},
     "output_type": "execute_result"
    }
   ],
   "source": [
    "#Student - generate a K dimensional vector of uniform random variables in the interval [-1, 1]\n",
    "beta = 2*(np.random.random(K)-0.5) #input command here\n",
    "beta"
   ]
  },
  {
   "cell_type": "markdown",
   "metadata": {},
   "source": [
    "Notice how we applied a neat NumPy trick here. The numpy.random.random() function returns an array, yet we applied what appears to be a scalar operation on the vector. This is an example of what NumPy calls vectorization (a major point of this tutorial), which offers us both a very fast way to do run vector computations as well as a clean and concise method of coding. \n",
    "\n",
    "<br><br>\n",
    "\n",
    "<b>Question: we designed the above $beta$ vector such that $E[\\beta_i]=0$. How can we confirm that we did this correctly?</b>"
   ]
  },
  {
   "cell_type": "code",
   "execution_count": 19,
   "metadata": {
    "collapsed": false
   },
   "outputs": [
    {
     "data": {
      "text/plain": [
       "0.2576637791783255"
      ]
     },
     "execution_count": 19,
     "metadata": {},
     "output_type": "execute_result"
    }
   ],
   "source": [
    "#start by taking the mean of the beta we already calculated\n",
    "beta.mean()\n",
    "#Student - fill in command here\n",
    "\n"
   ]
  },
  {
   "cell_type": "code",
   "execution_count": 22,
   "metadata": {
    "collapsed": false
   },
   "outputs": [],
   "source": [
    "#It is likely the above is not equal to zero. Let's simulate this 100k times and see what the distribution of means is\n",
    "#Student input code here\n",
    "means = []\n",
    "for i in range(100000):\n",
    "    means.append(2*(np.random.random(K)-0.5).mean())\n"
   ]
  },
  {
   "cell_type": "markdown",
   "metadata": {},
   "source": [
    "Now let's use matplotlibs hist function to plot the histogram of means here. "
   ]
  },
  {
   "cell_type": "code",
   "execution_count": 23,
   "metadata": {
    "collapsed": false
   },
   "outputs": [
    {
     "data": {
      "image/png": "[encoded data removed]",
      "text/plain": [
       "<matplotlib.figure.Figure at 0x10d128ac8>"
      ]
     },
     "metadata": {},
     "output_type": "display_data"
    }
   ],
   "source": [
    "plt.hist(means)\n",
    "plt.show()"
   ]
  },
  {
   "cell_type": "markdown",
   "metadata": {},
   "source": [
    "We should expect the distribution to be centered around zero. Is it?"
   ]
  },
  {
   "cell_type": "markdown",
   "metadata": {},
   "source": [
    "Now let's write our scoring function. Let's try to use as much of Numpy's inner optimization as possible (hint, this can be done in two lines and without writing any loops)."
   ]
  },
  {
   "cell_type": "code",
   "execution_count": 27,
   "metadata": {
    "collapsed": true
   },
   "outputs": [],
   "source": [
    "def score_logistic_regression(X, beta):\n",
    "    '''\n",
    "    This function takes in an NxK matrix X and 1xK vector beta.\n",
    "    The function should apply the logistic scoring function to each record of X.\n",
    "    The output should be an Nx1 vector of scores\n",
    "    '''\n",
    "    \n",
    "    #First let's calculate X*beta - make sure to use numpy's 'dot' method\n",
    "    #student - put in code here\n",
    "    xbeta = X.dot(beta)\n",
    "    \n",
    "    #Now let's input this into the link function\n",
    "    #student - put in code here\n",
    "    prob_score = 1/(1+np.exp(-xbeta))\n",
    "    return prob_score"
   ]
  },
  {
   "cell_type": "markdown",
   "metadata": {},
   "source": [
    "So how much faster is it by using Numpy? We can test this be writing the same function that uses no Numpy and executes via loops."
   ]
  },
  {
   "cell_type": "code",
   "execution_count": 28,
   "metadata": {
    "collapsed": false
   },
   "outputs": [],
   "source": [
    "def score_logistic_regression_NoNumpy(X, beta):\n",
    "    '''\n",
    "    This function takes in an NxK matrix X and 1xK vector beta.\n",
    "    The function should apply the logistic scoring function to each record of X.\n",
    "    The output should be an Nx1 vector of scores\n",
    "    '''\n",
    "    #Let's calculate xbeta using loops\n",
    "    xbeta = []\n",
    "    for row in X:\n",
    "        \n",
    "        xb = 0\n",
    "        for i, el in enumerate(row):\n",
    "            xb += el * beta[i]\n",
    "        \n",
    "        xbeta.append(xb)\n",
    "        \n",
    "    #Now let's apply the link function to each xbeta\n",
    "    prob_score = []\n",
    "    for xb in xbeta:\n",
    "        prob_score.append(1 / (1 + np.exp(-1 * xb)))\n",
    "        \n",
    "    return prob_score"
   ]
  },
  {
   "cell_type": "markdown",
   "metadata": {},
   "source": [
    "Before doing any analysis, let's test the output of each to make sure they equal"
   ]
  },
  {
   "cell_type": "code",
   "execution_count": 30,
   "metadata": {
    "collapsed": false
   },
   "outputs": [
    {
     "data": {
      "text/plain": [
       "0.0"
      ]
     },
     "execution_count": 30,
     "metadata": {},
     "output_type": "execute_result"
    }
   ],
   "source": [
    "#Student - write a unit test that calls each function with the same inputs and checks to see they return the same values.\n",
    "diff = np.abs(score_logistic_regression(X, beta)- score_logistic_regression_NoNumpy(X, beta))\n",
    "np.round(diff.sum(),0)"
   ]
  },
  {
   "cell_type": "markdown",
   "metadata": {},
   "source": [
    "If they equal then we can proceed with timing analysis"
   ]
  },
  {
   "cell_type": "code",
   "execution_count": 31,
   "metadata": {
    "collapsed": false
   },
   "outputs": [
    {
     "name": "stdout",
     "output_type": "stream",
     "text": [
      "100 loops, best of 3: 4.2 ms per loop\n"
     ]
    }
   ],
   "source": [
    "%timeit score_logistic_regression_NoNumpy(X, beta)"
   ]
  },
  {
   "cell_type": "code",
   "execution_count": 32,
   "metadata": {
    "collapsed": false
   },
   "outputs": [
    {
     "name": "stdout",
     "output_type": "stream",
     "text": [
      "The slowest run took 19.37 times longer than the fastest. This could mean that an intermediate result is being cached.\n",
      "100000 loops, best of 3: 18.3 µs per loop\n"
     ]
    }
   ],
   "source": [
    "%timeit score_logistic_regression(X, beta)"
   ]
  },
  {
   "cell_type": "markdown",
   "metadata": {},
   "source": []
  },
  {
   "cell_type": "code",
   "execution_count": null,
   "metadata": {
    "collapsed": true
   },
   "outputs": [],
   "source": []
  }
 ],
 "metadata": {
  "anaconda-cloud": {},
  "kernelspec": {
   "display_name": "Python [Root]",
   "language": "python",
   "name": "Python [Root]"
  },
  "language_info": {
   "codemirror_mode": {
    "name": "ipython",
    "version": 3
   },
   "file_extension": ".py",
   "mimetype": "text/x-python",
   "name": "python",
   "nbconvert_exporter": "python",
   "pygments_lexer": "ipython3",
   "version": "3.5.2"
  }
 },
 "nbformat": 4,
 "nbformat_minor": 0
}
