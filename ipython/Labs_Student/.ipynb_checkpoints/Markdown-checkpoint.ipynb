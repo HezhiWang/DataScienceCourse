{
 "cells": [
  {
   "cell_type": "markdown",
   "metadata": {},
   "source": [
    "# Markdown\n",
    "Markdown\n",
    "==\n",
    "\n",
    "## This is Head2\n",
    "This is ALSO Head2\n",
    "--\n",
    "\n",
    "- first line\n",
    "  \n",
    "  1.5 line\n",
    "  > with a quote\n",
    "- second line\n",
    "- third line\n",
    "        include <stdio.h>\n",
    "1. Un\n",
    "2. Deux\n",
    "3. Trois\n",
    "\n",
    "## This is quote\n",
    "\n",
    "> quote 1\n",
    ">\n",
    ">> quote 2\n",
    "> \n",
    "\n",
    "> ## quote Head\n",
    "> 1. cinq\n",
    "> 2. quatre\n",
    "\n",
    "## This is Latex\n",
    "$$e^x=\\sum_{i=0}^\\infty \\frac{1}{i!}x^i$$\n",
    "\n",
    "## This is a table\n",
    "\n",
    "| Tables        | Are           | Cool  |\n",
    "| ------------- |:-------------:| -----:|\n",
    "| col 3 is      | right-aligned | $1600 |\n",
    "| col 2 is      | centered      |   $12 |\n",
    "| zebra stripes | are neat      |    $1 |\n",
    "\n",
    "\n",
    "| This | is   |\n",
    "|------|------|\n",
    "|   a  | table|"
   ]
  },
  {
   "cell_type": "markdown",
   "metadata": {},
   "source": [
    "## This is a link\n",
    "This is [an example] (http://example.com/ \"Title\") inline link.\n",
    "\n",
    "[This link](http://example.net/) has no title attribute.\n",
    "\n",
    "See my [About](/about/) page for details.\n",
    "\n",
    "This is [an example][id] reference-style link.\n",
    "\n",
    "[id]: http://example.com/  \"Optional Title Here\"\n",
    "\n",
    "[link1](http://jupyter.readthedocs.io/en/latest/index.html)\n",
    "\n",
    "## This is bold & italic\n",
    "*italic*\n",
    "\n",
    "***\n",
    "\n",
    "---\n",
    "\n",
    "* * *\n",
    "**bold**"
   ]
  },
  {
   "cell_type": "markdown",
   "metadata": {},
   "source": [
    "## This is code\n",
    "代码区块 缩进 4 个空格或是 1 个制表符\n",
    "如果要标记一小段行内代码，可以用反引号把它包起来\n",
    "\n",
    "    \n",
    "` \n",
    "    include <stdio.h>\n",
    "    int main()\n",
    "    {\n",
    "        return 0;\n",
    "    }\n",
    "` \n",
    "\n",
    "    tell application \"Foo\"\n",
    "        beep\n",
    "    end tell\n",
    "\n",
    "#This is HTML\n",
    "\n",
    "<table>\n",
    "    <tr>\n",
    "        <td>html table</td>\n",
    "    </tr>\n",
    "</table>"
   ]
  },
  {
   "cell_type": "markdown",
   "metadata": {},
   "source": []
  },
  {
   "cell_type": "code",
   "execution_count": null,
   "metadata": {
    "collapsed": true
   },
   "outputs": [],
   "source": []
  }
 ],
 "metadata": {
  "anaconda-cloud": {},
  "kernelspec": {
   "display_name": "Python [Root]",
   "language": "python",
   "name": "Python [Root]"
  },
  "language_info": {
   "codemirror_mode": {
    "name": "ipython",
    "version": 3
   },
   "file_extension": ".py",
   "mimetype": "text/x-python",
   "name": "python",
   "nbconvert_exporter": "python",
   "pygments_lexer": "ipython3",
   "version": "3.5.2"
  }
 },
 "nbformat": 4,
 "nbformat_minor": 0
}
